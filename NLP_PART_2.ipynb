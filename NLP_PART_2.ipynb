{
  "nbformat": 4,
  "nbformat_minor": 0,
  "metadata": {
    "colab": {
      "name": "NLP PART 2.ipynb",
      "provenance": [],
      "authorship_tag": "ABX9TyMKmAeSOBP5J0g4t/fm99B6",
      "include_colab_link": true
    },
    "kernelspec": {
      "name": "python3",
      "display_name": "Python 3"
    },
    "language_info": {
      "name": "python"
    }
  },
  "cells": [
    {
      "cell_type": "markdown",
      "metadata": {
        "id": "view-in-github",
        "colab_type": "text"
      },
      "source": [
        "<a href=\"https://colab.research.google.com/github/SuryARavichan/NATURAL-LANGUAGE-PROCESSOING/blob/main/NLP_PART_2.ipynb\" target=\"_parent\"><img src=\"https://colab.research.google.com/assets/colab-badge.svg\" alt=\"Open In Colab\"/></a>"
      ]
    },
    {
      "cell_type": "code",
      "metadata": {
        "id": "iWUTbvrxa0Fp"
      },
      "source": [
        "text = ['this is a line',\n",
        "        'this is another line',\n",
        "        'this is completely different line']\n",
        "        "
      ],
      "execution_count": 1,
      "outputs": []
    },
    {
      "cell_type": "code",
      "metadata": {
        "id": "mSqFUv8DbONl"
      },
      "source": [
        "from sklearn.feature_extraction.text import CountVectorizer,TfidfTransformer"
      ],
      "execution_count": 16,
      "outputs": []
    },
    {
      "cell_type": "code",
      "metadata": {
        "id": "ir_h41enbWPi"
      },
      "source": [
        "cv = CountVectorizer()\n"
      ],
      "execution_count": 25,
      "outputs": []
    },
    {
      "cell_type": "code",
      "metadata": {
        "id": "nNVNqQcNbcxh"
      },
      "source": [
        "sparse_matrix = cv.fit_transform(text)"
      ],
      "execution_count": 26,
      "outputs": []
    },
    {
      "cell_type": "code",
      "metadata": {
        "colab": {
          "base_uri": "https://localhost:8080/"
        },
        "id": "IPaMTovhbfRh",
        "outputId": "527dc983-d77e-4fb4-c540-9212123bf80b"
      },
      "source": [
        "sparse_matrix.todense()"
      ],
      "execution_count": 27,
      "outputs": [
        {
          "output_type": "execute_result",
          "data": {
            "text/plain": [
              "matrix([[0, 0, 0, 1, 1, 1],\n",
              "        [1, 0, 0, 1, 1, 1],\n",
              "        [0, 1, 1, 1, 1, 1]])"
            ]
          },
          "metadata": {},
          "execution_count": 27
        }
      ]
    },
    {
      "cell_type": "code",
      "metadata": {
        "colab": {
          "base_uri": "https://localhost:8080/"
        },
        "id": "mi4N2pJxcA0j",
        "outputId": "5c67ca82-080b-4f49-cb75-62565694b507"
      },
      "source": [
        "cv.vocabulary_"
      ],
      "execution_count": 28,
      "outputs": [
        {
          "output_type": "execute_result",
          "data": {
            "text/plain": [
              "{'another': 0, 'completely': 1, 'different': 2, 'is': 3, 'line': 4, 'this': 5}"
            ]
          },
          "metadata": {},
          "execution_count": 28
        }
      ]
    },
    {
      "cell_type": "code",
      "metadata": {
        "id": "rTtxFkI7cIaM"
      },
      "source": [
        "cv.vocabulary"
      ],
      "execution_count": 29,
      "outputs": []
    },
    {
      "cell_type": "code",
      "metadata": {
        "colab": {
          "base_uri": "https://localhost:8080/"
        },
        "id": "aULjqTi_cKE1",
        "outputId": "de7300a4-9915-416e-a67e-5fb4600f2f2c"
      },
      "source": [
        "cv.fixed_vocabulary_"
      ],
      "execution_count": 30,
      "outputs": [
        {
          "output_type": "execute_result",
          "data": {
            "text/plain": [
              "False"
            ]
          },
          "metadata": {},
          "execution_count": 30
        }
      ]
    },
    {
      "cell_type": "code",
      "metadata": {
        "id": "r0uarVtVcOUs"
      },
      "source": [
        "tfidf = TfidfTransformer()"
      ],
      "execution_count": 31,
      "outputs": []
    },
    {
      "cell_type": "code",
      "metadata": {
        "colab": {
          "base_uri": "https://localhost:8080/"
        },
        "id": "Xd4C2cJsc82L",
        "outputId": "3e0ed8d5-1089-4262-c637-3532a2b65264"
      },
      "source": [
        "sparse_matrix"
      ],
      "execution_count": 32,
      "outputs": [
        {
          "output_type": "execute_result",
          "data": {
            "text/plain": [
              "<3x6 sparse matrix of type '<class 'numpy.int64'>'\n",
              "\twith 12 stored elements in Compressed Sparse Row format>"
            ]
          },
          "metadata": {},
          "execution_count": 32
        }
      ]
    },
    {
      "cell_type": "code",
      "metadata": {
        "id": "pKbQjOJRc_Ag"
      },
      "source": [
        "results = tfidf.fit_transform(sparse_matrix)"
      ],
      "execution_count": 33,
      "outputs": []
    },
    {
      "cell_type": "code",
      "metadata": {
        "colab": {
          "base_uri": "https://localhost:8080/"
        },
        "id": "ci4RWlJqdUcz",
        "outputId": "4d0eea51-4e2a-4e53-e053-e27f5c15042f"
      },
      "source": [
        "results.todense()"
      ],
      "execution_count": 34,
      "outputs": [
        {
          "output_type": "execute_result",
          "data": {
            "text/plain": [
              "matrix([[0.        , 0.        , 0.        , 0.57735027, 0.57735027,\n",
              "         0.57735027],\n",
              "        [0.69903033, 0.        , 0.        , 0.41285857, 0.41285857,\n",
              "         0.41285857],\n",
              "        [0.        , 0.57292883, 0.57292883, 0.338381  , 0.338381  ,\n",
              "         0.338381  ]])"
            ]
          },
          "metadata": {},
          "execution_count": 34
        }
      ]
    },
    {
      "cell_type": "code",
      "metadata": {
        "id": "Wy8qQaRXdWYD"
      },
      "source": [
        "from sklearn.feature_extraction.text import TfidfVectorizer"
      ],
      "execution_count": 36,
      "outputs": []
    },
    {
      "cell_type": "code",
      "metadata": {
        "id": "zCcnQyoHdiJ1"
      },
      "source": [
        "tv = TfidfVectorizer()"
      ],
      "execution_count": 37,
      "outputs": []
    },
    {
      "cell_type": "code",
      "metadata": {
        "id": "IDX0SccGdpxs"
      },
      "source": [
        "tv_results = tv.fit_transform(text)"
      ],
      "execution_count": 38,
      "outputs": []
    },
    {
      "cell_type": "code",
      "metadata": {
        "colab": {
          "base_uri": "https://localhost:8080/"
        },
        "id": "oPN467WLdwSQ",
        "outputId": "4988b1ca-a7b8-47ec-8876-7e857888a2ff"
      },
      "source": [
        "tv_results.todense()"
      ],
      "execution_count": 40,
      "outputs": [
        {
          "output_type": "execute_result",
          "data": {
            "text/plain": [
              "matrix([[0.        , 0.        , 0.        , 0.57735027, 0.57735027,\n",
              "         0.57735027],\n",
              "        [0.69903033, 0.        , 0.        , 0.41285857, 0.41285857,\n",
              "         0.41285857],\n",
              "        [0.        , 0.57292883, 0.57292883, 0.338381  , 0.338381  ,\n",
              "         0.338381  ]])"
            ]
          },
          "metadata": {},
          "execution_count": 40
        }
      ]
    },
    {
      "cell_type": "code",
      "metadata": {
        "id": "bzj3aWvXdxre"
      },
      "source": [
        ""
      ],
      "execution_count": null,
      "outputs": []
    }
  ]
}